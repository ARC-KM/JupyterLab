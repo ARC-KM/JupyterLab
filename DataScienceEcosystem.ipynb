{
 "cells": [
  {
   "cell_type": "markdown",
   "id": "0e959e34-56b9-43eb-acd1-7c8ed435c6de",
   "metadata": {},
   "source": [
    "# Data Science Tools and Ecosystem"
   ]
  },
  {
   "cell_type": "markdown",
   "id": "e5588dc3-96ae-46b4-869b-3013cfe88825",
   "metadata": {
    "tags": []
   },
   "source": [
    "This Notebook summarizes different Data Science tools and ecosystems."
   ]
  },
  {
   "cell_type": "markdown",
   "id": "e805c451-25df-4c08-86ca-8b6577942045",
   "metadata": {},
   "source": [
    "Some of popular languages used by Data Scientists are:  \n",
    "1.Python  \n",
    "2.R  \n",
    "3.Java  \n",
    "4.Scala  \n",
    "5.SQL  \n",
    "6.Julia  "
   ]
  },
  {
   "cell_type": "markdown",
   "id": "5350a98b-3929-409f-8e6d-e278e21c7308",
   "metadata": {},
   "source": [
    "Some of the commonly used libraries by Data Scientists include:  \n",
    "1.Pandas  \n",
    "2.NumPy  \n",
    "3.TensorFlow  \n",
    "4.Keras  \n",
    "5.SciKit-learn  \n",
    "6.Matplotlib  "
   ]
  },
  {
   "cell_type": "markdown",
   "id": "9dce68f9-2f5c-4f44-8b8f-c2d92daba504",
   "metadata": {},
   "source": [
    "| Data Science Tools |\n",
    "|:--|\n",
    "| Jupyter Notebook |\n",
    "| RStudio |\n",
    "| Anaconda | "
   ]
  },
  {
   "cell_type": "markdown",
   "id": "434c30dd-0d6b-4e7e-aa61-9b9734df2360",
   "metadata": {},
   "source": [
    "### Below are a few examples of evaluating arithmetic expressions in Python"
   ]
  },
  {
   "cell_type": "code",
   "execution_count": 3,
   "id": "4c075a09-44d6-4b4b-9a4f-7a7944d60dcc",
   "metadata": {
    "tags": []
   },
   "outputs": [
    {
     "data": {
      "text/plain": [
       "17"
      ]
     },
     "execution_count": 3,
     "metadata": {},
     "output_type": "execute_result"
    }
   ],
   "source": [
    "# This a simple arithmetic expression to mutiply then add integers.\n",
    "(3*4)+5"
   ]
  },
  {
   "cell_type": "code",
   "execution_count": 4,
   "id": "9e9900ae-95e9-4ef5-aae0-40bb4cdb0666",
   "metadata": {
    "tags": []
   },
   "outputs": [
    {
     "data": {
      "text/plain": [
       "3.3333333333333335"
      ]
     },
     "execution_count": 4,
     "metadata": {},
     "output_type": "execute_result"
    }
   ],
   "source": [
    "# This will convert 200 minutes to hours by diving by 60.\n",
    "200/60"
   ]
  },
  {
   "cell_type": "markdown",
   "id": "56d08b01-86aa-485d-8a1b-3413258b36cd",
   "metadata": {
    "tags": []
   },
   "source": [
    "**Objectives:**"
   ]
  },
  {
   "cell_type": "markdown",
   "id": "31021a82-969a-4c2b-b1d8-bdc086c7e7e5",
   "metadata": {},
   "source": [
    "- Introduction\n",
    "- List of popular languages used in Data Science\n",
    "- List of common libraries used in Data Science\n",
    "- Examples of evaluating arithmetic expressions in Python"
   ]
  },
  {
   "cell_type": "markdown",
   "id": "eb800924-4335-4af1-ad59-04d9aa842993",
   "metadata": {},
   "source": [
    "## Author\n",
    "Archana K M"
   ]
  },
  {
   "cell_type": "code",
   "execution_count": null,
   "id": "90b764e7-45d0-4e54-aa8e-e40b4f935acc",
   "metadata": {},
   "outputs": [],
   "source": []
  }
 ],
 "metadata": {
  "kernelspec": {
   "display_name": "Python",
   "language": "python",
   "name": "conda-env-python-py"
  },
  "language_info": {
   "codemirror_mode": {
    "name": "ipython",
    "version": 3
   },
   "file_extension": ".py",
   "mimetype": "text/x-python",
   "name": "python",
   "nbconvert_exporter": "python",
   "pygments_lexer": "ipython3",
   "version": "3.7.12"
  }
 },
 "nbformat": 4,
 "nbformat_minor": 5
}
